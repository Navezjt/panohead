{
  "cells": [
    {
      "cell_type": "code",
      "execution_count": null,
      "metadata": {
        "id": "c-JdJwOaMWiS"
      },
      "outputs": [],
      "source": [
        "%cd /content\n",
        "!git clone -b dev https://github.com/camenduru/PanoHead\n",
        "\n",
        "!apt -y install -qq aria2\n",
        "!aria2c --console-log-level=error -c -x 16 -s 16 -k 1M https://huggingface.co/camenduru/PanoHead/resolve/main/ablation-trigridD-1-025000.pkl -d /content/PanoHead/models -o ablation-trigridD-1-025000.pkl\n",
        "!aria2c --console-log-level=error -c -x 16 -s 16 -k 1M https://huggingface.co/camenduru/PanoHead/resolve/main/baseline-easy-khair-025000.pkl -d /content/PanoHead/models -o baseline-easy-khair-025000.pkl\n",
        "!aria2c --console-log-level=error -c -x 16 -s 16 -k 1M https://huggingface.co/camenduru/PanoHead/resolve/main/easy-khair-180-gpc0.8-trans10-025000.pkl -d /content/PanoHead/models -o easy-khair-180-gpc0.8-trans10-025000.pkl\n",
        "\n",
        "!pip install imgui glfw pyspng mrcfile ninja plyfile trimesh"
      ]
    },
    {
      "cell_type": "code",
      "execution_count": null,
      "metadata": {
        "id": "6oL0gucmWUkR"
      },
      "outputs": [],
      "source": [
        "%cd /content/PanoHead\n",
        "!python gen_videos.py --network /content/PanoHead/models/easy-khair-180-gpc0.8-trans10-025000.pkl --seeds 0-3 --grid 1x1 --output=test.mp4 --cfg Head --trunc 0.7"
      ]
    },
    {
      "cell_type": "code",
      "execution_count": null,
      "metadata": {
        "id": "hioXsRZXWY3N"
      },
      "outputs": [],
      "source": [
        "%cd /content/PanoHead\n",
        "!python gen_samples.py --outdir=out --shape-format=.ply --trunc=0.7 --shapes=true --seeds=0-3 --network /content/PanoHead/models/easy-khair-180-gpc0.8-trans10-025000.pkl"
      ]
    }
  ],
  "metadata": {
    "accelerator": "GPU",
    "colab": {
      "gpuType": "T4",
      "provenance": []
    },
    "kernelspec": {
      "display_name": "Python 3",
      "name": "python3"
    },
    "language_info": {
      "name": "python"
    }
  },
  "nbformat": 4,
  "nbformat_minor": 0
}

#probedor
#https://github.com/SizheAn/PanoHead
#colabhttps://github.com/camenduru/PanoHead-colab